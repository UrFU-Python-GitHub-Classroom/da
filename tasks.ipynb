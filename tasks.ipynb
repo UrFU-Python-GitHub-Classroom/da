{
  "nbformat": 4,
  "nbformat_minor": 0,
  "metadata": {
    "kernelspec": {
      "display_name": "Python 3",
      "language": "python",
      "name": "python3"
    },
    "language_info": {
      "codemirror_mode": {
        "name": "ipython",
        "version": 3
      },
      "file_extension": ".py",
      "mimetype": "text/x-python",
      "name": "python",
      "nbconvert_exporter": "python",
      "pygments_lexer": "ipython3",
      "version": "3.8.5"
    },
    "colab": {
      "name": "Анализ данных",
      "provenance": [],
      "collapsed_sections": []
    }
  },
  "cells": [
    {
      "cell_type": "code",
      "metadata": {
        "id": "TvBV7brAldiD"
      },
      "source": [
        "import numpy as np\n",
        "import pandas as pd\n",
        "import matplotlib.pyplot as plt\n",
        "%matplotlib inline"
      ],
      "execution_count": null,
      "outputs": []
    },
    {
      "cell_type": "markdown",
      "metadata": {
        "id": "rt8TUui7ldiI"
      },
      "source": [
        "# Загрузка данных"
      ]
    },
    {
      "cell_type": "code",
      "metadata": {
        "id": "rE_TauMpldiJ"
      },
      "source": [
        "works = pd.read_csv(\"works.csv\")"
      ],
      "execution_count": null,
      "outputs": []
    },
    {
      "cell_type": "code",
      "metadata": {
        "id": "oramx6OdldiK"
      },
      "source": [
        "works.head()"
      ],
      "execution_count": null,
      "outputs": []
    },
    {
      "cell_type": "code",
      "metadata": {
        "id": "sG_7kHaKldiL"
      },
      "source": [
        "works.info()"
      ],
      "execution_count": null,
      "outputs": []
    },
    {
      "cell_type": "markdown",
      "metadata": {
        "id": "-ZJszlSmldiM"
      },
      "source": [
        "## 1. Узнать общее количество записей в датасете"
      ]
    },
    {
      "cell_type": "markdown",
      "metadata": {
        "id": "a7pbFJ26ldiN"
      },
      "source": [
        "1. Узнать количество записей в DataFrame можно в информации о DataFrame в поле RangeIndex"
      ]
    },
    {
      "cell_type": "code",
      "metadata": {
        "id": "r5TqG0wvldiO"
      },
      "source": [
        "works.info()"
      ],
      "execution_count": null,
      "outputs": []
    },
    {
      "cell_type": "markdown",
      "metadata": {
        "id": "Nn81YvGdldiO"
      },
      "source": [
        "2. Узнать количество записей в DataFrame можно по первому элементу tuple, содержащего размерность DataFrame"
      ]
    },
    {
      "cell_type": "code",
      "metadata": {
        "id": "BxXGTJmlldiP"
      },
      "source": [
        "works.shape[0]"
      ],
      "execution_count": null,
      "outputs": []
    },
    {
      "cell_type": "markdown",
      "metadata": {
        "id": "kVJT77NLldiQ"
      },
      "source": [
        "3. Узнать количество записей в DataFrame можно с помощью функции len и индекса DataFrame"
      ]
    },
    {
      "cell_type": "code",
      "metadata": {
        "id": "ZM8mnoerldiQ"
      },
      "source": [
        "len(works.index)"
      ],
      "execution_count": null,
      "outputs": []
    },
    {
      "cell_type": "markdown",
      "metadata": {
        "id": "ngGh7aHRldiR"
      },
      "source": [
        "# 2. Узнать количество мужчин и женщин в датасете"
      ]
    },
    {
      "cell_type": "markdown",
      "metadata": {
        "id": "3eoutq1tldiR"
      },
      "source": [
        "1. Применяя метод value_counts для столбца можно узнать все уникальные значения в данном столбце и их количество"
      ]
    },
    {
      "cell_type": "code",
      "metadata": {
        "id": "LWY38_r5ldiS"
      },
      "source": [
        "works[\"gender\"].value_counts()"
      ],
      "execution_count": null,
      "outputs": []
    },
    {
      "cell_type": "markdown",
      "metadata": {
        "id": "CKvoMn0AldiS"
      },
      "source": [
        "2. Чтобы найти количество определенных значений в столбце мы можем использовать булевую индексацию"
      ]
    },
    {
      "cell_type": "code",
      "metadata": {
        "id": "3yuxjeS8ldiS"
      },
      "source": [
        "# Мужчины\n",
        "# works[works[\"gender\"] == \"?\"]"
      ],
      "execution_count": null,
      "outputs": []
    },
    {
      "cell_type": "code",
      "metadata": {
        "id": "xB8SPvF4ldiT"
      },
      "source": [
        "# Женщины"
      ],
      "execution_count": null,
      "outputs": []
    },
    {
      "cell_type": "markdown",
      "metadata": {
        "id": "01h8HCBCldiT"
      },
      "source": [
        "# 3. Узнать сколько значений в столбце skills не NAN"
      ]
    },
    {
      "cell_type": "markdown",
      "metadata": {
        "id": "tLK2XjwaldiT"
      },
      "source": [
        "1. Для этого применим функцию count к столбцу skills"
      ]
    },
    {
      "cell_type": "code",
      "metadata": {
        "id": "2Xnsrhc4ldiU"
      },
      "source": [
        ""
      ],
      "execution_count": null,
      "outputs": []
    },
    {
      "cell_type": "markdown",
      "metadata": {
        "id": "vNRZIZXkldiU"
      },
      "source": [
        "2. Также данную информацию можно получить с помощью метода info DataFrame"
      ]
    },
    {
      "cell_type": "code",
      "metadata": {
        "id": "uewn3y4nldiV"
      },
      "source": [
        ""
      ],
      "execution_count": null,
      "outputs": []
    },
    {
      "cell_type": "markdown",
      "metadata": {
        "id": "C0kilDCdldiV"
      },
      "source": [
        "# 4. Получить все заполненные скиллы"
      ]
    },
    {
      "cell_type": "code",
      "metadata": {
        "id": "LiicRYOdldiV"
      },
      "source": [
        "# Функция dropna"
      ],
      "execution_count": null,
      "outputs": []
    },
    {
      "cell_type": "code",
      "metadata": {
        "id": "jckHA1tBldiV"
      },
      "source": [
        ""
      ],
      "execution_count": null,
      "outputs": []
    },
    {
      "cell_type": "markdown",
      "metadata": {
        "id": "m8yFSGInldiW"
      },
      "source": [
        "# 5. Вывести зарплату только у тех, у которых в скиллах есть Python (Питон)"
      ]
    },
    {
      "cell_type": "code",
      "metadata": {
        "id": "Js2xKgU2ldiW"
      },
      "source": [
        ""
      ],
      "execution_count": null,
      "outputs": []
    },
    {
      "cell_type": "markdown",
      "metadata": {
        "id": "C2dRIm35ldiW"
      },
      "source": [
        "# 6. Построить перцентили по заработной плате у мужчин и женщин."
      ]
    },
    {
      "cell_type": "code",
      "metadata": {
        "id": "Kif93L8cldiX"
      },
      "source": [
        "# Использовать query и quantile\n",
        "# men_salary = \n",
        "men_salary"
      ],
      "execution_count": null,
      "outputs": []
    },
    {
      "cell_type": "code",
      "metadata": {
        "id": "adN89IHnldiX"
      },
      "source": [
        "fig, ax = plt.subplots()\n",
        "ax.plot(percentiles, men_salary)\n",
        "plt.xlabel(\"Перцентили\")\n",
        "plt.ylabel(\"Зарплата мжучин\")\n",
        "\n",
        "plt.show()"
      ],
      "execution_count": null,
      "outputs": []
    },
    {
      "cell_type": "code",
      "metadata": {
        "id": "fPCZomQhldiX"
      },
      "source": [
        "# Женщины"
      ],
      "execution_count": null,
      "outputs": []
    },
    {
      "cell_type": "code",
      "metadata": {
        "id": "FRtUwmqrldiY"
      },
      "source": [
        "fig, ax = plt.subplots()\n",
        "ax.plot(percentiles, women_salary)\n",
        "plt.xlabel(\"Перцентили\")\n",
        "plt.ylabel(\"Зарплата женщин\")\n",
        "\n",
        "plt.show()"
      ],
      "execution_count": null,
      "outputs": []
    },
    {
      "cell_type": "markdown",
      "metadata": {
        "id": "kI5aZQFBldiY"
      },
      "source": [
        "# 7*. Построить графики распределения по заработной плате мужчин и женщин в зависимости от высшего образования"
      ]
    },
    {
      "cell_type": "code",
      "metadata": {
        "id": "wQCElfNdldiY"
      },
      "source": [
        "# Мужчины\n",
        "# men_salary = works.groupby(\"???\").agg(\"mean\").reset_index()\n",
        "men_salary"
      ],
      "execution_count": null,
      "outputs": []
    },
    {
      "cell_type": "code",
      "metadata": {
        "id": "4O0nPb9uldiZ"
      },
      "source": [
        "# Женщины\n",
        "# women_salary = \n",
        "women_salary"
      ],
      "execution_count": null,
      "outputs": []
    },
    {
      "cell_type": "code",
      "metadata": {
        "id": "rwv8RirgldiZ"
      },
      "source": [
        "# works.query(\"gender == '??' and educationType == '??'\").hist(bins=100, alpha=0.5)"
      ],
      "execution_count": null,
      "outputs": []
    },
    {
      "cell_type": "code",
      "metadata": {
        "id": "W_YtsfUMldiZ"
      },
      "source": [
        ""
      ],
      "execution_count": null,
      "outputs": []
    },
    {
      "cell_type": "code",
      "metadata": {
        "id": "bBvzz56qldia"
      },
      "source": [
        ""
      ],
      "execution_count": null,
      "outputs": []
    },
    {
      "cell_type": "code",
      "metadata": {
        "id": "zLCebd8Oldia"
      },
      "source": [
        ""
      ],
      "execution_count": null,
      "outputs": []
    },
    {
      "cell_type": "code",
      "metadata": {
        "id": "-lar2ksUldia"
      },
      "source": [
        ""
      ],
      "execution_count": null,
      "outputs": []
    },
    {
      "cell_type": "code",
      "metadata": {
        "id": "75ndHY4Ildia"
      },
      "source": [
        ""
      ],
      "execution_count": null,
      "outputs": []
    },
    {
      "cell_type": "code",
      "metadata": {
        "id": "GCWCo622ldib"
      },
      "source": [
        ""
      ],
      "execution_count": null,
      "outputs": []
    },
    {
      "cell_type": "code",
      "metadata": {
        "id": "JgQ_BmYXldib"
      },
      "source": [
        ""
      ],
      "execution_count": null,
      "outputs": []
    }
  ]
}